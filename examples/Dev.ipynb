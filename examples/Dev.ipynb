{
 "cells": [
  {
   "cell_type": "code",
   "id": "f960a62752e2ee59",
   "metadata": {},
   "source": [
    "from src.any_widget_async_bug import BugWidget\n",
    "\n",
    "widget = BugWidget()\n",
    "widget"
   ],
   "outputs": [],
   "execution_count": null
  },
  {
   "cell_type": "code",
   "id": "525f1088-46d0-408b-9e0e-b9ff763c965d",
   "metadata": {},
   "source": [
    "widget.compute_value()\n",
    "widget.value"
   ],
   "outputs": [],
   "execution_count": null
  },
  {
   "metadata": {},
   "cell_type": "code",
   "source": "widget.value",
   "id": "4ceecff5bca49381",
   "outputs": [],
   "execution_count": null
  },
  {
   "metadata": {},
   "cell_type": "code",
   "source": "",
   "id": "25f87e6dce0395ae",
   "outputs": [],
   "execution_count": null
  }
 ],
 "metadata": {
  "kernelspec": {
   "display_name": "Python 3 (ipykernel)",
   "language": "python",
   "name": "python3"
  },
  "language_info": {
   "codemirror_mode": {
    "name": "ipython",
    "version": 3
   },
   "file_extension": ".py",
   "mimetype": "text/x-python",
   "name": "python",
   "nbconvert_exporter": "python",
   "pygments_lexer": "ipython3",
   "version": "3.10.12"
  }
 },
 "nbformat": 4,
 "nbformat_minor": 5
}
