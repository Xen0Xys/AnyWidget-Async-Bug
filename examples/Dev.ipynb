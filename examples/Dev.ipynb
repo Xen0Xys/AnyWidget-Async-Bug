{
 "cells": [
  {
   "cell_type": "code",
   "id": "f960a62752e2ee59",
   "metadata": {
    "ExecuteTime": {
     "end_time": "2024-04-19T13:32:42.722930Z",
     "start_time": "2024-04-19T13:32:42.617233Z"
    }
   },
   "source": [
    "from src.any_widget_async_bug import BugWidget\n",
    "\n",
    "widget = BugWidget()\n",
    "widget"
   ],
   "outputs": [
    {
     "data": {
      "text/plain": [
       "BugWidget()"
      ],
      "application/vnd.jupyter.widget-view+json": {
       "version_major": 2,
       "version_minor": 0,
       "model_id": "9e886a244fdc4c8ea6b8234852c0a756"
      }
     },
     "execution_count": 1,
     "metadata": {},
     "output_type": "execute_result"
    }
   ],
   "execution_count": 1
  },
  {
   "cell_type": "code",
   "id": "525f1088-46d0-408b-9e0e-b9ff763c965d",
   "metadata": {
    "ExecuteTime": {
     "end_time": "2024-04-19T13:32:48.323780Z",
     "start_time": "2024-04-19T13:32:43.667198Z"
    }
   },
   "source": [
    "widget.compute_value()\n",
    "widget.value"
   ],
   "outputs": [
    {
     "name": "stderr",
     "output_type": "stream",
     "text": [
      "\n",
      "KeyboardInterrupt\n",
      "\n"
     ]
    }
   ],
   "execution_count": 2
  },
  {
   "metadata": {
    "ExecuteTime": {
     "end_time": "2024-04-19T13:23:00.919921Z",
     "start_time": "2024-04-19T13:23:00.911108Z"
    }
   },
   "cell_type": "code",
   "source": "widget.value",
   "id": "4ceecff5bca49381",
   "outputs": [
    {
     "data": {
      "text/plain": [
       "1"
      ]
     },
     "execution_count": 3,
     "metadata": {},
     "output_type": "execute_result"
    }
   ],
   "execution_count": 3
  },
  {
   "metadata": {},
   "cell_type": "code",
   "outputs": [],
   "execution_count": null,
   "source": "",
   "id": "25f87e6dce0395ae"
  }
 ],
 "metadata": {
  "kernelspec": {
   "display_name": "Python 3 (ipykernel)",
   "language": "python",
   "name": "python3"
  },
  "language_info": {
   "codemirror_mode": {
    "name": "ipython",
    "version": 3
   },
   "file_extension": ".py",
   "mimetype": "text/x-python",
   "name": "python",
   "nbconvert_exporter": "python",
   "pygments_lexer": "ipython3",
   "version": "3.10.12"
  }
 },
 "nbformat": 4,
 "nbformat_minor": 5
}
