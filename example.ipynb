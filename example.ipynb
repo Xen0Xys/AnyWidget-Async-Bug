{
	"cells": [
		{
			"cell_type": "code",
			"execution_count": null,
			"metadata": {},
			"outputs": [],
			"source": [
				"%load_ext autoreload\n",
				"%autoreload 2\n",
				"%env ANYWIDGET_HMR=1"
			]
		},
		{
			"cell_type": "code",
			"execution_count": null,
			"metadata": {},
			"outputs": [],
			"source": [
				"from any_widget_async_bug import Counter\n",
				"Counter()"
			]
		}
	],
	"metadata": {
		"language_info": {
			"name": "python"
		}
	},
	"nbformat": 4,
	"nbformat_minor": 2
}